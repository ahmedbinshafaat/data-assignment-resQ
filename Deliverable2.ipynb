{
 "cells": [
  {
   "metadata": {},
   "cell_type": "markdown",
   "source": "# Customer Lifetime Value Analysis",
   "id": "68157e610fac80ea"
  },
  {
   "cell_type": "code",
   "id": "initial_id",
   "metadata": {
    "ExecuteTime": {
     "end_time": "2024-10-11T17:38:56.159250Z",
     "start_time": "2024-10-11T17:38:56.151525Z"
    }
   },
   "source": [
    "import sqlite3\n",
    "import pandas as pd\n",
    "from matplotlib import pyplot as plt\n",
    "conn = sqlite3.connect('mock_resq.db')\n",
    "cursor = conn.cursor()"
   ],
   "outputs": [],
   "execution_count": 8
  },
  {
   "metadata": {},
   "cell_type": "markdown",
   "source": "### Average purchase value",
   "id": "ffcde6de71da3a5c"
  },
  {
   "metadata": {
    "ExecuteTime": {
     "end_time": "2024-10-11T18:06:48.606416Z",
     "start_time": "2024-10-11T18:06:48.564633Z"
    }
   },
   "cell_type": "code",
   "source": [
    "avgPurchaseValue = \"\"\"\n",
    "SELECT \n",
    "    SUM(order_sales) / COUNT(order_id) AS avgPurchaseValue\n",
    "FROM \n",
    "    master_orders_table;\n",
    "\"\"\"\n",
    "avgPurchaseValue = conn.execute(avgPurchaseValue).fetchall()[0][0]\n",
    "avgPurchaseValue"
   ],
   "id": "7d6a365bc2779a26",
   "outputs": [
    {
     "data": {
      "text/plain": [
       "770"
      ]
     },
     "execution_count": 46,
     "metadata": {},
     "output_type": "execute_result"
    }
   ],
   "execution_count": 46
  },
  {
   "metadata": {},
   "cell_type": "markdown",
   "source": "### Average purchase frequency ",
   "id": "df03e575174c457f"
  },
  {
   "metadata": {
    "ExecuteTime": {
     "end_time": "2024-10-11T18:09:23.191938Z",
     "start_time": "2024-10-11T18:09:23.038266Z"
    }
   },
   "cell_type": "code",
   "source": [
    "avgPurchaseFrequency = \"\"\"\n",
    "SELECT \n",
    "    COUNT(order_id)  / COUNT(DISTINCT user_id) AS avgPurchaseFrequency\n",
    "FROM \n",
    "    master_orders_table;\n",
    "\"\"\"\n",
    "avgPurchaseFrequency = conn.execute(avgPurchaseFrequency).fetchall()[0][0]\n",
    "avgPurchaseFrequency"
   ],
   "id": "f5f014bb03be5535",
   "outputs": [
    {
     "data": {
      "text/plain": [
       "2"
      ]
     },
     "execution_count": 57,
     "metadata": {},
     "output_type": "execute_result"
    }
   ],
   "execution_count": 57
  },
  {
   "metadata": {},
   "cell_type": "markdown",
   "source": "### Customer Retention Rate",
   "id": "86f2ccf8a0b3c9f6"
  },
  {
   "metadata": {
    "ExecuteTime": {
     "end_time": "2024-10-11T18:09:24.579091Z",
     "start_time": "2024-10-11T18:09:24.418353Z"
    }
   },
   "cell_type": "code",
   "source": [
    "cust_retention_rate = \"\"\"\n",
    "WITH customer_orders AS (\n",
    "    SELECT \n",
    "        user_id,\n",
    "        COUNT(order_id) AS totalOrders\n",
    "    FROM \n",
    "        master_orders_table\n",
    "    GROUP BY \n",
    "        user_id\n",
    ")\n",
    "SELECT \n",
    "    (COUNT(CASE WHEN totalOrders > 1 THEN 1 END) * 1.0 / COUNT(*)) AS retentionRate\n",
    "FROM \n",
    "    customer_orders;\n",
    "\"\"\"\n",
    "cust_retention_rate = conn.execute(cust_retention_rate).fetchall()[0][0]\n",
    "cust_retention_rate"
   ],
   "id": "efa90fc9fe00e06d",
   "outputs": [
    {
     "data": {
      "text/plain": [
       "0.4605788585156808"
      ]
     },
     "execution_count": 58,
     "metadata": {},
     "output_type": "execute_result"
    }
   ],
   "execution_count": 58
  },
  {
   "metadata": {},
   "cell_type": "markdown",
   "source": "### Customer Life Time Estimate",
   "id": "ca02398090981f32"
  },
  {
   "metadata": {
    "ExecuteTime": {
     "end_time": "2024-10-11T18:09:25.965295Z",
     "start_time": "2024-10-11T18:09:25.960444Z"
    }
   },
   "cell_type": "code",
   "source": [
    "cust_life_time = 1.0 / (1 - cust_retention_rate) \n",
    "cust_life_time"
   ],
   "id": "2db5819917e330a0",
   "outputs": [
    {
     "data": {
      "text/plain": [
       "1.8538390936037676"
      ]
     },
     "execution_count": 59,
     "metadata": {},
     "output_type": "execute_result"
    }
   ],
   "execution_count": 59
  },
  {
   "metadata": {},
   "cell_type": "markdown",
   "source": "### Customer Life Time Value",
   "id": "aeb0eb3fc321cb69"
  },
  {
   "metadata": {
    "ExecuteTime": {
     "end_time": "2024-10-11T18:09:27.442761Z",
     "start_time": "2024-10-11T18:09:27.436195Z"
    }
   },
   "cell_type": "code",
   "source": "avgPurchaseValue*avgPurchaseFrequency*cust_life_time",
   "id": "e841349286d930cb",
   "outputs": [
    {
     "data": {
      "text/plain": [
       "2854.912204149802"
      ]
     },
     "execution_count": 60,
     "metadata": {},
     "output_type": "execute_result"
    }
   ],
   "execution_count": 60
  },
  {
   "metadata": {},
   "cell_type": "markdown",
   "source": "### Complete Query",
   "id": "259dd48b818b4352"
  },
  {
   "metadata": {
    "ExecuteTime": {
     "end_time": "2024-10-11T18:09:32.214225Z",
     "start_time": "2024-10-11T18:09:32.210115Z"
    }
   },
   "cell_type": "code",
   "source": [
    "query = \"\"\"\n",
    "WITH avg_purchase_value AS (\n",
    "    SELECT \n",
    "        SUM(order_sales) / COUNT(order_id) AS avgPurchaseValue\n",
    "    FROM \n",
    "        master_orders_table\n",
    "),\n",
    "avg_purchase_frequency AS (\n",
    "    SELECT \n",
    "        COUNT(order_id)  / COUNT(DISTINCT user_id) AS avgPurchaseFrequency\n",
    "    FROM \n",
    "        master_orders_table\n",
    "),\n",
    "retention_rate AS (\n",
    "    WITH customer_orders AS (\n",
    "        SELECT \n",
    "            user_id,\n",
    "            COUNT(order_id) AS totalOrders\n",
    "        FROM \n",
    "            master_orders_table\n",
    "        GROUP BY \n",
    "            user_id\n",
    "    )\n",
    "    SELECT \n",
    "        (COUNT(CASE WHEN totalOrders > 1 THEN 1 END) * 1.0 / COUNT(*)) AS retentionRate\n",
    "    FROM \n",
    "        customer_orders\n",
    "),\n",
    "customer_lifetime AS (\n",
    "    SELECT \n",
    "        1.0 / (1 - retentionRate) AS lifetime\n",
    "    FROM \n",
    "        retention_rate\n",
    ")\n",
    "SELECT \n",
    "    avg_purchase_value.avgPurchaseValue * \n",
    "    avg_purchase_frequency.avgPurchaseFrequency * \n",
    "    customer_lifetime.lifetime AS customerLifetimeValue\n",
    "FROM \n",
    "    avg_purchase_value, avg_purchase_frequency, customer_lifetime;\n",
    "\"\"\""
   ],
   "id": "1994019477cbe049",
   "outputs": [],
   "execution_count": 61
  },
  {
   "metadata": {
    "ExecuteTime": {
     "end_time": "2024-10-11T18:09:33.588096Z",
     "start_time": "2024-10-11T18:09:33.256474Z"
    }
   },
   "cell_type": "code",
   "source": [
    "cust_lifetime_value = conn.execute(query).fetchall()[0][0]\n",
    "cust_lifetime_value"
   ],
   "id": "ebe2353dfde5984a",
   "outputs": [
    {
     "data": {
      "text/plain": [
       "2854.912204149802"
      ]
     },
     "execution_count": 62,
     "metadata": {},
     "output_type": "execute_result"
    }
   ],
   "execution_count": 62
  },
  {
   "metadata": {},
   "cell_type": "code",
   "outputs": [],
   "execution_count": null,
   "source": "",
   "id": "4e94d9cf4cf9c29"
  }
 ],
 "metadata": {
  "kernelspec": {
   "display_name": "Python 3 (ipykernel)",
   "language": "python",
   "name": "python3"
  },
  "language_info": {
   "codemirror_mode": {
    "name": "ipython",
    "version": 3
   },
   "file_extension": ".py",
   "mimetype": "text/x-python",
   "name": "python",
   "nbconvert_exporter": "python",
   "pygments_lexer": "ipython3",
   "version": "3.8.20"
  }
 },
 "nbformat": 4,
 "nbformat_minor": 5
}
