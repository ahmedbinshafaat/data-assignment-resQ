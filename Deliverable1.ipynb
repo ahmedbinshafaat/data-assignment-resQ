{
 "cells": [
  {
   "metadata": {},
   "cell_type": "markdown",
   "source": "# First look on the available data",
   "id": "68157e610fac80ea"
  },
  {
   "cell_type": "code",
   "id": "initial_id",
   "metadata": {
    "ExecuteTime": {
     "end_time": "2024-10-11T17:13:28.974359Z",
     "start_time": "2024-10-11T17:13:27.915368Z"
    }
   },
   "source": [
    "import sqlite3\n",
    "import pandas as pd\n",
    "from matplotlib import pyplot as plt\n",
    "conn = sqlite3.connect('mock_resq.db')\n",
    "cursor = conn.cursor()\n",
    "cursor.execute(\"SELECT name FROM sqlite_master WHERE type='table';\")\n",
    "tables = cursor.fetchall()\n",
    "tables"
   ],
   "outputs": [
    {
     "data": {
      "text/plain": [
       "[('orders',), ('providers',), ('users',), ('master_orders_table',)]"
      ]
     },
     "execution_count": 145,
     "metadata": {},
     "output_type": "execute_result"
    }
   ],
   "execution_count": 145
  },
  {
   "metadata": {},
   "cell_type": "markdown",
   "source": "### Orders ",
   "id": "a59a9c1f51b6e6ba"
  },
  {
   "metadata": {
    "ExecuteTime": {
     "end_time": "2024-10-11T16:44:37.486959Z",
     "start_time": "2024-10-11T16:44:37.478668Z"
    }
   },
   "cell_type": "code",
   "source": [
    "df = pd.read_sql_query(f\"SELECT * FROM orders limit 5\", conn)\n",
    "display(df.head())"
   ],
   "id": "f67d04c033c73a0",
   "outputs": [
    {
     "data": {
      "text/plain": [
       "                    id            createdAt               userId quantity  \\\n",
       "0  4648711062057701806  2023-08-31 10:14:49   833181563296211638        2   \n",
       "1  1676056141507951956  2023-03-21 17:04:54  7763311846463275691        1   \n",
       "2  7745602867536251060  2023-07-19 09:48:28  8919282109171104948        2   \n",
       "3  7319989469562109720  2023-08-10 12:29:01  5785370845306063462        1   \n",
       "4  8979946097528312402  2022-10-03 09:55:15  8918527236425591239        1   \n",
       "\n",
       "  refunded currency sales           providerId  \n",
       "0        0      eur  1000  3518867990385707647  \n",
       "1        0      eur   400  6413422964860176913  \n",
       "2        0      eur   680   123356649204044788  \n",
       "3        0      eur  1099  7268869293921836511  \n",
       "4        0      eur   200  7530970657789428790  "
      ],
      "text/html": [
       "<div>\n",
       "<style scoped>\n",
       "    .dataframe tbody tr th:only-of-type {\n",
       "        vertical-align: middle;\n",
       "    }\n",
       "\n",
       "    .dataframe tbody tr th {\n",
       "        vertical-align: top;\n",
       "    }\n",
       "\n",
       "    .dataframe thead th {\n",
       "        text-align: right;\n",
       "    }\n",
       "</style>\n",
       "<table border=\"1\" class=\"dataframe\">\n",
       "  <thead>\n",
       "    <tr style=\"text-align: right;\">\n",
       "      <th></th>\n",
       "      <th>id</th>\n",
       "      <th>createdAt</th>\n",
       "      <th>userId</th>\n",
       "      <th>quantity</th>\n",
       "      <th>refunded</th>\n",
       "      <th>currency</th>\n",
       "      <th>sales</th>\n",
       "      <th>providerId</th>\n",
       "    </tr>\n",
       "  </thead>\n",
       "  <tbody>\n",
       "    <tr>\n",
       "      <th>0</th>\n",
       "      <td>4648711062057701806</td>\n",
       "      <td>2023-08-31 10:14:49</td>\n",
       "      <td>833181563296211638</td>\n",
       "      <td>2</td>\n",
       "      <td>0</td>\n",
       "      <td>eur</td>\n",
       "      <td>1000</td>\n",
       "      <td>3518867990385707647</td>\n",
       "    </tr>\n",
       "    <tr>\n",
       "      <th>1</th>\n",
       "      <td>1676056141507951956</td>\n",
       "      <td>2023-03-21 17:04:54</td>\n",
       "      <td>7763311846463275691</td>\n",
       "      <td>1</td>\n",
       "      <td>0</td>\n",
       "      <td>eur</td>\n",
       "      <td>400</td>\n",
       "      <td>6413422964860176913</td>\n",
       "    </tr>\n",
       "    <tr>\n",
       "      <th>2</th>\n",
       "      <td>7745602867536251060</td>\n",
       "      <td>2023-07-19 09:48:28</td>\n",
       "      <td>8919282109171104948</td>\n",
       "      <td>2</td>\n",
       "      <td>0</td>\n",
       "      <td>eur</td>\n",
       "      <td>680</td>\n",
       "      <td>123356649204044788</td>\n",
       "    </tr>\n",
       "    <tr>\n",
       "      <th>3</th>\n",
       "      <td>7319989469562109720</td>\n",
       "      <td>2023-08-10 12:29:01</td>\n",
       "      <td>5785370845306063462</td>\n",
       "      <td>1</td>\n",
       "      <td>0</td>\n",
       "      <td>eur</td>\n",
       "      <td>1099</td>\n",
       "      <td>7268869293921836511</td>\n",
       "    </tr>\n",
       "    <tr>\n",
       "      <th>4</th>\n",
       "      <td>8979946097528312402</td>\n",
       "      <td>2022-10-03 09:55:15</td>\n",
       "      <td>8918527236425591239</td>\n",
       "      <td>1</td>\n",
       "      <td>0</td>\n",
       "      <td>eur</td>\n",
       "      <td>200</td>\n",
       "      <td>7530970657789428790</td>\n",
       "    </tr>\n",
       "  </tbody>\n",
       "</table>\n",
       "</div>"
      ]
     },
     "metadata": {},
     "output_type": "display_data"
    }
   ],
   "execution_count": 112
  },
  {
   "metadata": {},
   "cell_type": "markdown",
   "source": "### Users ",
   "id": "845dd1958bac83ec"
  },
  {
   "metadata": {
    "ExecuteTime": {
     "end_time": "2024-10-11T16:44:38.375713Z",
     "start_time": "2024-10-11T16:44:38.362967Z"
    }
   },
   "cell_type": "code",
   "source": [
    "df = pd.read_sql_query(f\"SELECT * FROM users limit 5\", conn)\n",
    "display(df.head())"
   ],
   "id": "d921a2cb7c1c7b07",
   "outputs": [
    {
     "data": {
      "text/plain": [
       "                    id country       registeredDate\n",
       "0  6244948894430711520      FI  2015-11-24 16:31:10\n",
       "1  7333245412641704133      FI  2015-11-24 16:31:10\n",
       "2  7387231492403274666      FI  2015-11-24 16:31:10\n",
       "3   462254365688400616      FI  2015-11-24 16:31:10\n",
       "4  1895545503734717224      FI  2015-11-24 16:31:10"
      ],
      "text/html": [
       "<div>\n",
       "<style scoped>\n",
       "    .dataframe tbody tr th:only-of-type {\n",
       "        vertical-align: middle;\n",
       "    }\n",
       "\n",
       "    .dataframe tbody tr th {\n",
       "        vertical-align: top;\n",
       "    }\n",
       "\n",
       "    .dataframe thead th {\n",
       "        text-align: right;\n",
       "    }\n",
       "</style>\n",
       "<table border=\"1\" class=\"dataframe\">\n",
       "  <thead>\n",
       "    <tr style=\"text-align: right;\">\n",
       "      <th></th>\n",
       "      <th>id</th>\n",
       "      <th>country</th>\n",
       "      <th>registeredDate</th>\n",
       "    </tr>\n",
       "  </thead>\n",
       "  <tbody>\n",
       "    <tr>\n",
       "      <th>0</th>\n",
       "      <td>6244948894430711520</td>\n",
       "      <td>FI</td>\n",
       "      <td>2015-11-24 16:31:10</td>\n",
       "    </tr>\n",
       "    <tr>\n",
       "      <th>1</th>\n",
       "      <td>7333245412641704133</td>\n",
       "      <td>FI</td>\n",
       "      <td>2015-11-24 16:31:10</td>\n",
       "    </tr>\n",
       "    <tr>\n",
       "      <th>2</th>\n",
       "      <td>7387231492403274666</td>\n",
       "      <td>FI</td>\n",
       "      <td>2015-11-24 16:31:10</td>\n",
       "    </tr>\n",
       "    <tr>\n",
       "      <th>3</th>\n",
       "      <td>462254365688400616</td>\n",
       "      <td>FI</td>\n",
       "      <td>2015-11-24 16:31:10</td>\n",
       "    </tr>\n",
       "    <tr>\n",
       "      <th>4</th>\n",
       "      <td>1895545503734717224</td>\n",
       "      <td>FI</td>\n",
       "      <td>2015-11-24 16:31:10</td>\n",
       "    </tr>\n",
       "  </tbody>\n",
       "</table>\n",
       "</div>"
      ]
     },
     "metadata": {},
     "output_type": "display_data"
    }
   ],
   "execution_count": 113
  },
  {
   "metadata": {},
   "cell_type": "markdown",
   "source": "### Partners ",
   "id": "8be022db03b2d77c"
  },
  {
   "metadata": {
    "ExecuteTime": {
     "end_time": "2024-10-11T16:44:39.483131Z",
     "start_time": "2024-10-11T16:44:39.474255Z"
    }
   },
   "cell_type": "code",
   "source": [
    "df = pd.read_sql_query(f\"SELECT * FROM providers limit 5\", conn)\n",
    "display(df.head())"
   ],
   "id": "b9b6f87e5ed3a5e3",
   "outputs": [
    {
     "data": {
      "text/plain": [
       "                    id defaultOfferType country       registeredDate\n",
       "0  6563612899329659014             meal     fin  2015-11-24 16:33:35\n",
       "1  8724554181611615450             meal     fin  2016-01-27 00:08:50\n",
       "2   946161542061641905             meal     fin  2016-02-01 15:03:27\n",
       "3  7056903344430959871             meal     fin  2016-02-02 14:56:40\n",
       "4  3497712091356119302             meal     fin  2016-02-03 13:20:29"
      ],
      "text/html": [
       "<div>\n",
       "<style scoped>\n",
       "    .dataframe tbody tr th:only-of-type {\n",
       "        vertical-align: middle;\n",
       "    }\n",
       "\n",
       "    .dataframe tbody tr th {\n",
       "        vertical-align: top;\n",
       "    }\n",
       "\n",
       "    .dataframe thead th {\n",
       "        text-align: right;\n",
       "    }\n",
       "</style>\n",
       "<table border=\"1\" class=\"dataframe\">\n",
       "  <thead>\n",
       "    <tr style=\"text-align: right;\">\n",
       "      <th></th>\n",
       "      <th>id</th>\n",
       "      <th>defaultOfferType</th>\n",
       "      <th>country</th>\n",
       "      <th>registeredDate</th>\n",
       "    </tr>\n",
       "  </thead>\n",
       "  <tbody>\n",
       "    <tr>\n",
       "      <th>0</th>\n",
       "      <td>6563612899329659014</td>\n",
       "      <td>meal</td>\n",
       "      <td>fin</td>\n",
       "      <td>2015-11-24 16:33:35</td>\n",
       "    </tr>\n",
       "    <tr>\n",
       "      <th>1</th>\n",
       "      <td>8724554181611615450</td>\n",
       "      <td>meal</td>\n",
       "      <td>fin</td>\n",
       "      <td>2016-01-27 00:08:50</td>\n",
       "    </tr>\n",
       "    <tr>\n",
       "      <th>2</th>\n",
       "      <td>946161542061641905</td>\n",
       "      <td>meal</td>\n",
       "      <td>fin</td>\n",
       "      <td>2016-02-01 15:03:27</td>\n",
       "    </tr>\n",
       "    <tr>\n",
       "      <th>3</th>\n",
       "      <td>7056903344430959871</td>\n",
       "      <td>meal</td>\n",
       "      <td>fin</td>\n",
       "      <td>2016-02-02 14:56:40</td>\n",
       "    </tr>\n",
       "    <tr>\n",
       "      <th>4</th>\n",
       "      <td>3497712091356119302</td>\n",
       "      <td>meal</td>\n",
       "      <td>fin</td>\n",
       "      <td>2016-02-03 13:20:29</td>\n",
       "    </tr>\n",
       "  </tbody>\n",
       "</table>\n",
       "</div>"
      ]
     },
     "metadata": {},
     "output_type": "display_data"
    }
   ],
   "execution_count": 114
  },
  {
   "metadata": {},
   "cell_type": "markdown",
   "source": "# Sample Data Pipeline",
   "id": "3d4b8e05e59efc01"
  },
  {
   "metadata": {},
   "cell_type": "markdown",
   "source": [
    "I will first define the schema of the presentation table. After having a quick look on orders, users and providers tables, this could be a suitable schema for the presentation table. \n",
    "\n",
    "Order ID - from orders\n",
    "\n",
    "Order Date - from orders\n",
    "\n",
    "User ID - from orders\n",
    "\n",
    "Customer Country - from users\n",
    "\n",
    "Customer Registration Date - from users\n",
    "\n",
    "Provider ID - from orders\n",
    "\n",
    "Provider Country - from providers\n",
    "\n",
    "Provider Registration Date - from providers\n",
    "\n",
    "Quantity - from orders\n",
    "\n",
    "Refunded - from orders\n",
    "\n",
    "Currency - from orders\n",
    "\n",
    "Sales - from orders\n",
    "\n",
    "Default Offer Type (Partner Segment)\n",
    "This presentation table will allow the analyst to answer questions about sales, partner segments, and customer retention by using simple SELECT queries."
   ],
   "id": "a1b82e527e04f29a"
  },
  {
   "metadata": {},
   "cell_type": "markdown",
   "source": "### Query to build presentation table",
   "id": "5c1d077a071a86a4"
  },
  {
   "metadata": {
    "ExecuteTime": {
     "end_time": "2024-10-11T16:44:45.782928Z",
     "start_time": "2024-10-11T16:44:45.778871Z"
    }
   },
   "cell_type": "code",
   "source": [
    "query = \"\"\" CREATE TABLE master_orders_table AS\n",
    "SELECT \n",
    "    o.id AS order_id,\n",
    "    o.createdAt AS order_date,\n",
    "    o.userId AS user_id,\n",
    "    u.country AS user_country,\n",
    "    u.registeredDate AS user_registration_date,\n",
    "    o.providerId AS provider_id,\n",
    "    p.country AS provider_country,\n",
    "    p.registeredDate AS provider_registration_date,\n",
    "    p.defaultOfferType AS default_offer_type,\n",
    "    o.quantity AS order_quantity,\n",
    "    o.refunded AS order_refunded,\n",
    "    o.currency AS order_currency,\n",
    "    o.sales AS order_sales\n",
    "FROM \n",
    "    orders o\n",
    "INNER JOIN \n",
    "    users u ON o.userId = u.id\n",
    "LEFT JOIN \n",
    "    providers p ON o.providerId = p.id; \"\"\"\n"
   ],
   "id": "a1ea02f2bc99e2e3",
   "outputs": [],
   "execution_count": 115
  },
  {
   "metadata": {
    "ExecuteTime": {
     "end_time": "2024-10-11T16:42:44.932433Z",
     "start_time": "2024-10-11T16:42:44.810500Z"
    }
   },
   "cell_type": "code",
   "source": [
    "#cursor.execute('DROP TABLE IF EXISTS master_orders_table;')\n",
    "# Commit the transaction to save changes\n",
    "#conn.commit()"
   ],
   "id": "be1f7950d13cef94",
   "outputs": [],
   "execution_count": 110
  },
  {
   "metadata": {},
   "cell_type": "markdown",
   "source": "### Creating the master table",
   "id": "fe1f5f20ec57b928"
  },
  {
   "metadata": {
    "ExecuteTime": {
     "end_time": "2024-10-11T16:44:54.256475Z",
     "start_time": "2024-10-11T16:44:52.806684Z"
    }
   },
   "cell_type": "code",
   "source": [
    "cursor.execute(query)\n",
    "# Commit the transaction to save changes\n",
    "conn.commit()"
   ],
   "id": "4a216849de3fee11",
   "outputs": [],
   "execution_count": 116
  },
  {
   "metadata": {},
   "cell_type": "markdown",
   "source": "#### Selecting sample rows to show the master table",
   "id": "693cd9c895c82720"
  },
  {
   "metadata": {
    "ExecuteTime": {
     "end_time": "2024-10-11T16:44:56.677126Z",
     "start_time": "2024-10-11T16:44:56.664987Z"
    }
   },
   "cell_type": "code",
   "source": [
    "df = pd.read_sql_query(f\"SELECT * FROM master_orders_table limit 5\", conn)\n",
    "display(df.head())"
   ],
   "id": "5c37583256d0c7e7",
   "outputs": [
    {
     "data": {
      "text/plain": [
       "              order_id           order_date              user_id user_country  \\\n",
       "0  4648711062057701806  2023-08-31 10:14:49   833181563296211638           FI   \n",
       "1  1676056141507951956  2023-03-21 17:04:54  7763311846463275691           FI   \n",
       "2  7745602867536251060  2023-07-19 09:48:28  8919282109171104948           FI   \n",
       "3  7319989469562109720  2023-08-10 12:29:01  5785370845306063462           FI   \n",
       "4  8979946097528312402  2022-10-03 09:55:15  8918527236425591239           FI   \n",
       "\n",
       "  user_registration_date          provider_id provider_country  \\\n",
       "0    2019-06-26 13:15:21  3518867990385707647              fin   \n",
       "1    2020-06-10 16:32:22  6413422964860176913              fin   \n",
       "2    2021-07-08 09:49:25   123356649204044788              fin   \n",
       "3    2020-01-12 16:14:35  7268869293921836511              fin   \n",
       "4    2018-12-21 14:25:17  7530970657789428790              fin   \n",
       "\n",
       "  provider_registration_date default_offer_type order_quantity order_refunded  \\\n",
       "0        2022-08-16 06:46:13               meal              2              0   \n",
       "1        2020-01-13 12:29:15               meal              1              0   \n",
       "2        2023-05-25 10:25:53              snack              2              0   \n",
       "3        2022-06-27 12:17:25               meal              1              0   \n",
       "4        2019-02-12 08:44:54              snack              1              0   \n",
       "\n",
       "  order_currency order_sales  \n",
       "0            eur        1000  \n",
       "1            eur         400  \n",
       "2            eur         680  \n",
       "3            eur        1099  \n",
       "4            eur         200  "
      ],
      "text/html": [
       "<div>\n",
       "<style scoped>\n",
       "    .dataframe tbody tr th:only-of-type {\n",
       "        vertical-align: middle;\n",
       "    }\n",
       "\n",
       "    .dataframe tbody tr th {\n",
       "        vertical-align: top;\n",
       "    }\n",
       "\n",
       "    .dataframe thead th {\n",
       "        text-align: right;\n",
       "    }\n",
       "</style>\n",
       "<table border=\"1\" class=\"dataframe\">\n",
       "  <thead>\n",
       "    <tr style=\"text-align: right;\">\n",
       "      <th></th>\n",
       "      <th>order_id</th>\n",
       "      <th>order_date</th>\n",
       "      <th>user_id</th>\n",
       "      <th>user_country</th>\n",
       "      <th>user_registration_date</th>\n",
       "      <th>provider_id</th>\n",
       "      <th>provider_country</th>\n",
       "      <th>provider_registration_date</th>\n",
       "      <th>default_offer_type</th>\n",
       "      <th>order_quantity</th>\n",
       "      <th>order_refunded</th>\n",
       "      <th>order_currency</th>\n",
       "      <th>order_sales</th>\n",
       "    </tr>\n",
       "  </thead>\n",
       "  <tbody>\n",
       "    <tr>\n",
       "      <th>0</th>\n",
       "      <td>4648711062057701806</td>\n",
       "      <td>2023-08-31 10:14:49</td>\n",
       "      <td>833181563296211638</td>\n",
       "      <td>FI</td>\n",
       "      <td>2019-06-26 13:15:21</td>\n",
       "      <td>3518867990385707647</td>\n",
       "      <td>fin</td>\n",
       "      <td>2022-08-16 06:46:13</td>\n",
       "      <td>meal</td>\n",
       "      <td>2</td>\n",
       "      <td>0</td>\n",
       "      <td>eur</td>\n",
       "      <td>1000</td>\n",
       "    </tr>\n",
       "    <tr>\n",
       "      <th>1</th>\n",
       "      <td>1676056141507951956</td>\n",
       "      <td>2023-03-21 17:04:54</td>\n",
       "      <td>7763311846463275691</td>\n",
       "      <td>FI</td>\n",
       "      <td>2020-06-10 16:32:22</td>\n",
       "      <td>6413422964860176913</td>\n",
       "      <td>fin</td>\n",
       "      <td>2020-01-13 12:29:15</td>\n",
       "      <td>meal</td>\n",
       "      <td>1</td>\n",
       "      <td>0</td>\n",
       "      <td>eur</td>\n",
       "      <td>400</td>\n",
       "    </tr>\n",
       "    <tr>\n",
       "      <th>2</th>\n",
       "      <td>7745602867536251060</td>\n",
       "      <td>2023-07-19 09:48:28</td>\n",
       "      <td>8919282109171104948</td>\n",
       "      <td>FI</td>\n",
       "      <td>2021-07-08 09:49:25</td>\n",
       "      <td>123356649204044788</td>\n",
       "      <td>fin</td>\n",
       "      <td>2023-05-25 10:25:53</td>\n",
       "      <td>snack</td>\n",
       "      <td>2</td>\n",
       "      <td>0</td>\n",
       "      <td>eur</td>\n",
       "      <td>680</td>\n",
       "    </tr>\n",
       "    <tr>\n",
       "      <th>3</th>\n",
       "      <td>7319989469562109720</td>\n",
       "      <td>2023-08-10 12:29:01</td>\n",
       "      <td>5785370845306063462</td>\n",
       "      <td>FI</td>\n",
       "      <td>2020-01-12 16:14:35</td>\n",
       "      <td>7268869293921836511</td>\n",
       "      <td>fin</td>\n",
       "      <td>2022-06-27 12:17:25</td>\n",
       "      <td>meal</td>\n",
       "      <td>1</td>\n",
       "      <td>0</td>\n",
       "      <td>eur</td>\n",
       "      <td>1099</td>\n",
       "    </tr>\n",
       "    <tr>\n",
       "      <th>4</th>\n",
       "      <td>8979946097528312402</td>\n",
       "      <td>2022-10-03 09:55:15</td>\n",
       "      <td>8918527236425591239</td>\n",
       "      <td>FI</td>\n",
       "      <td>2018-12-21 14:25:17</td>\n",
       "      <td>7530970657789428790</td>\n",
       "      <td>fin</td>\n",
       "      <td>2019-02-12 08:44:54</td>\n",
       "      <td>snack</td>\n",
       "      <td>1</td>\n",
       "      <td>0</td>\n",
       "      <td>eur</td>\n",
       "      <td>200</td>\n",
       "    </tr>\n",
       "  </tbody>\n",
       "</table>\n",
       "</div>"
      ]
     },
     "metadata": {},
     "output_type": "display_data"
    }
   ],
   "execution_count": 117
  },
  {
   "metadata": {},
   "cell_type": "markdown",
   "source": [
    "# Answering Analysts' Questions\n",
    "## 1. Query to find the top 10 partners by sales"
   ],
   "id": "e34dc9253ff673e2"
  },
  {
   "metadata": {
    "ExecuteTime": {
     "end_time": "2024-10-11T17:14:04.740644Z",
     "start_time": "2024-10-11T17:14:04.600846Z"
    }
   },
   "cell_type": "code",
   "source": [
    "top_10_partners = \"\"\"\n",
    "SELECT \n",
    "    provider_id,\n",
    "    SUM(order_sales) AS totalSales\n",
    "FROM \n",
    "    master_orders_table\n",
    "GROUP BY \n",
    "    provider_id\n",
    "ORDER BY \n",
    "    totalSales DESC\n",
    "LIMIT 10\n",
    "\"\"\"\n",
    "df = pd.read_sql_query(f\"{top_10_partners}\", conn)\n",
    "display(df)"
   ],
   "id": "19a0f9a7821f5251",
   "outputs": [
    {
     "data": {
      "text/plain": [
       "           provider_id  totalSales\n",
       "0  7198110370745783236    10917800\n",
       "1  8312310143652755348     7467750\n",
       "2  8097235958083241788     2383700\n",
       "3  3865474760205653333     2223400\n",
       "4  8084884958338058541     1868140\n",
       "5  4734853230275691017     1702100\n",
       "6  5305286819167536850     1690500\n",
       "7  1066258454353124935     1568100\n",
       "8  7642201963087705313     1472000\n",
       "9  4014236829817167297     1457000"
      ],
      "text/html": [
       "<div>\n",
       "<style scoped>\n",
       "    .dataframe tbody tr th:only-of-type {\n",
       "        vertical-align: middle;\n",
       "    }\n",
       "\n",
       "    .dataframe tbody tr th {\n",
       "        vertical-align: top;\n",
       "    }\n",
       "\n",
       "    .dataframe thead th {\n",
       "        text-align: right;\n",
       "    }\n",
       "</style>\n",
       "<table border=\"1\" class=\"dataframe\">\n",
       "  <thead>\n",
       "    <tr style=\"text-align: right;\">\n",
       "      <th></th>\n",
       "      <th>provider_id</th>\n",
       "      <th>totalSales</th>\n",
       "    </tr>\n",
       "  </thead>\n",
       "  <tbody>\n",
       "    <tr>\n",
       "      <th>0</th>\n",
       "      <td>7198110370745783236</td>\n",
       "      <td>10917800</td>\n",
       "    </tr>\n",
       "    <tr>\n",
       "      <th>1</th>\n",
       "      <td>8312310143652755348</td>\n",
       "      <td>7467750</td>\n",
       "    </tr>\n",
       "    <tr>\n",
       "      <th>2</th>\n",
       "      <td>8097235958083241788</td>\n",
       "      <td>2383700</td>\n",
       "    </tr>\n",
       "    <tr>\n",
       "      <th>3</th>\n",
       "      <td>3865474760205653333</td>\n",
       "      <td>2223400</td>\n",
       "    </tr>\n",
       "    <tr>\n",
       "      <th>4</th>\n",
       "      <td>8084884958338058541</td>\n",
       "      <td>1868140</td>\n",
       "    </tr>\n",
       "    <tr>\n",
       "      <th>5</th>\n",
       "      <td>4734853230275691017</td>\n",
       "      <td>1702100</td>\n",
       "    </tr>\n",
       "    <tr>\n",
       "      <th>6</th>\n",
       "      <td>5305286819167536850</td>\n",
       "      <td>1690500</td>\n",
       "    </tr>\n",
       "    <tr>\n",
       "      <th>7</th>\n",
       "      <td>1066258454353124935</td>\n",
       "      <td>1568100</td>\n",
       "    </tr>\n",
       "    <tr>\n",
       "      <th>8</th>\n",
       "      <td>7642201963087705313</td>\n",
       "      <td>1472000</td>\n",
       "    </tr>\n",
       "    <tr>\n",
       "      <th>9</th>\n",
       "      <td>4014236829817167297</td>\n",
       "      <td>1457000</td>\n",
       "    </tr>\n",
       "  </tbody>\n",
       "</table>\n",
       "</div>"
      ]
     },
     "metadata": {},
     "output_type": "display_data"
    }
   ],
   "execution_count": 146
  },
  {
   "metadata": {
    "ExecuteTime": {
     "end_time": "2024-10-11T17:14:32.008263Z",
     "start_time": "2024-10-11T17:14:31.871524Z"
    }
   },
   "cell_type": "code",
   "source": "df.plot(kind='bar', x='provider_id', y='totalSales')",
   "id": "4dace0aab79c8163",
   "outputs": [
    {
     "data": {
      "text/plain": [
       "<Axes: xlabel='provider_id'>"
      ]
     },
     "execution_count": 148,
     "metadata": {},
     "output_type": "execute_result"
    },
    {
     "data": {
      "text/plain": [
       "<Figure size 640x480 with 1 Axes>"
      ],
      "image/png": "[encoded data removed]"
     },
     "metadata": {},
     "output_type": "display_data"
    }
   ],
   "execution_count": 148
  },
  {
   "metadata": {},
   "cell_type": "markdown",
   "source": "## 2. Query to identify the customers’ favourite partner segments (default offer types). Partners are the companies who sell surplus items on the marketplace.",
   "id": "6f54a325cf9da83f"
  },
  {
   "metadata": {
    "ExecuteTime": {
     "end_time": "2024-10-11T17:14:42.787477Z",
     "start_time": "2024-10-11T17:14:42.658908Z"
    }
   },
   "cell_type": "code",
   "source": [
    "fvt_partner_segments = \"\"\"\n",
    "SELECT \n",
    "    default_offer_type as partner_segment,\n",
    "    COUNT(order_id) AS orderCount\n",
    "FROM \n",
    "    master_orders_table\n",
    "GROUP BY \n",
    "    partner_segment\n",
    "ORDER BY \n",
    "    orderCount DESC;\n",
    "\"\"\"\n",
    "df = pd.read_sql_query(f\"{fvt_partner_segments}\", conn)\n",
    "display(df)"
   ],
   "id": "11af2068c813e2c7",
   "outputs": [
    {
     "data": {
      "text/plain": [
       "  partner_segment  orderCount\n",
       "0            meal      219764\n",
       "1           snack       49861\n",
       "2     grocery-bag       27192\n",
       "3         dessert        1910\n",
       "4     ingredients        1091\n",
       "5         flowers         153"
      ],
      "text/html": [
       "<div>\n",
       "<style scoped>\n",
       "    .dataframe tbody tr th:only-of-type {\n",
       "        vertical-align: middle;\n",
       "    }\n",
       "\n",
       "    .dataframe tbody tr th {\n",
       "        vertical-align: top;\n",
       "    }\n",
       "\n",
       "    .dataframe thead th {\n",
       "        text-align: right;\n",
       "    }\n",
       "</style>\n",
       "<table border=\"1\" class=\"dataframe\">\n",
       "  <thead>\n",
       "    <tr style=\"text-align: right;\">\n",
       "      <th></th>\n",
       "      <th>partner_segment</th>\n",
       "      <th>orderCount</th>\n",
       "    </tr>\n",
       "  </thead>\n",
       "  <tbody>\n",
       "    <tr>\n",
       "      <th>0</th>\n",
       "      <td>meal</td>\n",
       "      <td>219764</td>\n",
       "    </tr>\n",
       "    <tr>\n",
       "      <th>1</th>\n",
       "      <td>snack</td>\n",
       "      <td>49861</td>\n",
       "    </tr>\n",
       "    <tr>\n",
       "      <th>2</th>\n",
       "      <td>grocery-bag</td>\n",
       "      <td>27192</td>\n",
       "    </tr>\n",
       "    <tr>\n",
       "      <th>3</th>\n",
       "      <td>dessert</td>\n",
       "      <td>1910</td>\n",
       "    </tr>\n",
       "    <tr>\n",
       "      <th>4</th>\n",
       "      <td>ingredients</td>\n",
       "      <td>1091</td>\n",
       "    </tr>\n",
       "    <tr>\n",
       "      <th>5</th>\n",
       "      <td>flowers</td>\n",
       "      <td>153</td>\n",
       "    </tr>\n",
       "  </tbody>\n",
       "</table>\n",
       "</div>"
      ]
     },
     "metadata": {},
     "output_type": "display_data"
    }
   ],
   "execution_count": 149
  },
  {
   "metadata": {
    "ExecuteTime": {
     "end_time": "2024-10-11T17:15:04.541853Z",
     "start_time": "2024-10-11T17:15:04.438005Z"
    }
   },
   "cell_type": "code",
   "source": "df.plot(kind='bar', x='partner_segment', y='orderCount')",
   "id": "f548c489150708f",
   "outputs": [
    {
     "data": {
      "text/plain": [
       "<Axes: xlabel='partner_segment'>"
      ]
     },
     "execution_count": 150,
     "metadata": {},
     "output_type": "execute_result"
    },
    {
     "data": {
      "text/plain": [
       "<Figure size 640x480 with 1 Axes>"
      ],
      "image/png": "[encoded data removed]"
     },
     "metadata": {},
     "output_type": "display_data"
    }
   ],
   "execution_count": 150
  },
  {
   "metadata": {},
   "cell_type": "markdown",
   "source": "## 3. Query to find out what is the M1 retention for any given customer cohort. A cohort consists of customers who made their first order within the same month (M0). M1 retention is the share of customers who have made at least one purchase one month after their first purchase month.",
   "id": "bf9e7ca282ed6998"
  },
  {
   "metadata": {
    "ExecuteTime": {
     "end_time": "2024-10-11T17:15:32.244980Z",
     "start_time": "2024-10-11T17:15:30.874439Z"
    }
   },
   "cell_type": "code",
   "source": [
    "m1_retention_query = \"\"\" \n",
    "WITH first_orders AS (\n",
    "        SELECT user_id,\n",
    "        strftime('%Y-%m', order_date) AS cohortMonth,  -- Get the first order month\n",
    "        MIN(order_date) AS firstOrderDate                 -- Get the actual first order date\n",
    "    FROM \n",
    "        master_orders_table\n",
    "    GROUP BY \n",
    "        user_id\n",
    "    ),\n",
    "m1_retention AS ( SELECT \n",
    "        fo.cohortMonth,\n",
    "        strftime('%Y-%m',date(fo.firstOrderDate, '+1 month')) AS next_month,\n",
    "        COUNT(DISTINCT fo.user_id) AS totalCustomers,         -- Total customers in the cohort\n",
    "        COUNT(DISTINCT m.user_id) AS retainedCustomers         -- Customers who made a purchase in M1\n",
    "    FROM \n",
    "        first_orders fo\n",
    "    LEFT JOIN \n",
    "        master_orders_table m ON fo.user_id = m.user_id \n",
    "                             AND strftime('%Y-%m', m.order_date) = \n",
    "                                 next_month \n",
    "    GROUP BY \n",
    "        fo.cohortMonth\n",
    ")\n",
    "SELECT \n",
    "    cohortMonth,\n",
    "    next_month,\n",
    "    totalCustomers,\n",
    "    retainedCustomers,\n",
    "    (CAST(retainedCustomers AS FLOAT) / NULLIF(totalCustomers, 0)) * 100 AS m1RetentionRate  -- Calculate retention rate\n",
    "FROM \n",
    "    m1_retention;\n",
    "\n",
    "\"\"\"\n",
    "df = pd.read_sql_query(f\"{m1_retention_query}\", conn)\n",
    "display(df)"
   ],
   "id": "b37522f9fb4aeff",
   "outputs": [
    {
     "data": {
      "text/plain": [
       "   cohortMonth next_month  totalCustomers  retainedCustomers  m1RetentionRate\n",
       "0      2022-09    2022-10            4134               1220        29.511369\n",
       "1      2022-10    2022-11           15292               3393        22.188072\n",
       "2      2022-11    2022-12           12559               1846        14.698623\n",
       "3      2022-12    2023-01            8382               1232        14.698163\n",
       "4      2023-01    2023-02            9153               1440        15.732547\n",
       "5      2023-02    2023-03            8884               1400        15.758667\n",
       "6      2023-03    2023-04            9585               1337        13.948878\n",
       "7      2023-04    2023-05            8276               1139        13.762687\n",
       "8      2023-05    2023-06            8130                942        11.586716\n",
       "9      2023-06    2023-07            6698                784        11.704987\n",
       "10     2023-07    2023-08            6590                840        12.746586\n",
       "11     2023-08    2023-09            7375                924        12.528814\n",
       "12     2023-09    2023-10            7502                903        12.036790\n",
       "13     2023-10    2023-11            7123                504         7.075670\n",
       "14     2023-11    2023-12            3525                  0         0.000000"
      ],
      "text/html": [
       "<div>\n",
       "<style scoped>\n",
       "    .dataframe tbody tr th:only-of-type {\n",
       "        vertical-align: middle;\n",
       "    }\n",
       "\n",
       "    .dataframe tbody tr th {\n",
       "        vertical-align: top;\n",
       "    }\n",
       "\n",
       "    .dataframe thead th {\n",
       "        text-align: right;\n",
       "    }\n",
       "</style>\n",
       "<table border=\"1\" class=\"dataframe\">\n",
       "  <thead>\n",
       "    <tr style=\"text-align: right;\">\n",
       "      <th></th>\n",
       "      <th>cohortMonth</th>\n",
       "      <th>next_month</th>\n",
       "      <th>totalCustomers</th>\n",
       "      <th>retainedCustomers</th>\n",
       "      <th>m1RetentionRate</th>\n",
       "    </tr>\n",
       "  </thead>\n",
       "  <tbody>\n",
       "    <tr>\n",
       "      <th>0</th>\n",
       "      <td>2022-09</td>\n",
       "      <td>2022-10</td>\n",
       "      <td>4134</td>\n",
       "      <td>1220</td>\n",
       "      <td>29.511369</td>\n",
       "    </tr>\n",
       "    <tr>\n",
       "      <th>1</th>\n",
       "      <td>2022-10</td>\n",
       "      <td>2022-11</td>\n",
       "      <td>15292</td>\n",
       "      <td>3393</td>\n",
       "      <td>22.188072</td>\n",
       "    </tr>\n",
       "    <tr>\n",
       "      <th>2</th>\n",
       "      <td>2022-11</td>\n",
       "      <td>2022-12</td>\n",
       "      <td>12559</td>\n",
       "      <td>1846</td>\n",
       "      <td>14.698623</td>\n",
       "    </tr>\n",
       "    <tr>\n",
       "      <th>3</th>\n",
       "      <td>2022-12</td>\n",
       "      <td>2023-01</td>\n",
       "      <td>8382</td>\n",
       "      <td>1232</td>\n",
       "      <td>14.698163</td>\n",
       "    </tr>\n",
       "    <tr>\n",
       "      <th>4</th>\n",
       "      <td>2023-01</td>\n",
       "      <td>2023-02</td>\n",
       "      <td>9153</td>\n",
       "      <td>1440</td>\n",
       "      <td>15.732547</td>\n",
       "    </tr>\n",
       "    <tr>\n",
       "      <th>5</th>\n",
       "      <td>2023-02</td>\n",
       "      <td>2023-03</td>\n",
       "      <td>8884</td>\n",
       "      <td>1400</td>\n",
       "      <td>15.758667</td>\n",
       "    </tr>\n",
       "    <tr>\n",
       "      <th>6</th>\n",
       "      <td>2023-03</td>\n",
       "      <td>2023-04</td>\n",
       "      <td>9585</td>\n",
       "      <td>1337</td>\n",
       "      <td>13.948878</td>\n",
       "    </tr>\n",
       "    <tr>\n",
       "      <th>7</th>\n",
       "      <td>2023-04</td>\n",
       "      <td>2023-05</td>\n",
       "      <td>8276</td>\n",
       "      <td>1139</td>\n",
       "      <td>13.762687</td>\n",
       "    </tr>\n",
       "    <tr>\n",
       "      <th>8</th>\n",
       "      <td>2023-05</td>\n",
       "      <td>2023-06</td>\n",
       "      <td>8130</td>\n",
       "      <td>942</td>\n",
       "      <td>11.586716</td>\n",
       "    </tr>\n",
       "    <tr>\n",
       "      <th>9</th>\n",
       "      <td>2023-06</td>\n",
       "      <td>2023-07</td>\n",
       "      <td>6698</td>\n",
       "      <td>784</td>\n",
       "      <td>11.704987</td>\n",
       "    </tr>\n",
       "    <tr>\n",
       "      <th>10</th>\n",
       "      <td>2023-07</td>\n",
       "      <td>2023-08</td>\n",
       "      <td>6590</td>\n",
       "      <td>840</td>\n",
       "      <td>12.746586</td>\n",
       "    </tr>\n",
       "    <tr>\n",
       "      <th>11</th>\n",
       "      <td>2023-08</td>\n",
       "      <td>2023-09</td>\n",
       "      <td>7375</td>\n",
       "      <td>924</td>\n",
       "      <td>12.528814</td>\n",
       "    </tr>\n",
       "    <tr>\n",
       "      <th>12</th>\n",
       "      <td>2023-09</td>\n",
       "      <td>2023-10</td>\n",
       "      <td>7502</td>\n",
       "      <td>903</td>\n",
       "      <td>12.036790</td>\n",
       "    </tr>\n",
       "    <tr>\n",
       "      <th>13</th>\n",
       "      <td>2023-10</td>\n",
       "      <td>2023-11</td>\n",
       "      <td>7123</td>\n",
       "      <td>504</td>\n",
       "      <td>7.075670</td>\n",
       "    </tr>\n",
       "    <tr>\n",
       "      <th>14</th>\n",
       "      <td>2023-11</td>\n",
       "      <td>2023-12</td>\n",
       "      <td>3525</td>\n",
       "      <td>0</td>\n",
       "      <td>0.000000</td>\n",
       "    </tr>\n",
       "  </tbody>\n",
       "</table>\n",
       "</div>"
      ]
     },
     "metadata": {},
     "output_type": "display_data"
    }
   ],
   "execution_count": 152
  },
  {
   "metadata": {
    "ExecuteTime": {
     "end_time": "2024-10-11T17:15:51.028868Z",
     "start_time": "2024-10-11T17:15:50.922893Z"
    }
   },
   "cell_type": "code",
   "source": "df.plot(x='next_month', y='m1RetentionRate')",
   "id": "679d3d4931999d76",
   "outputs": [
    {
     "data": {
      "text/plain": [
       "<Axes: xlabel='next_month'>"
      ]
     },
     "execution_count": 153,
     "metadata": {},
     "output_type": "execute_result"
    },
    {
     "data": {
      "text/plain": [
       "<Figure size 640x480 with 1 Axes>"
      ],
      "image/png": "[encoded data removed]"
     },
     "metadata": {},
     "output_type": "display_data"
    }
   ],
   "execution_count": 153
  }
 ],
 "metadata": {
  "kernelspec": {
   "display_name": "Python 3 (ipykernel)",
   "language": "python",
   "name": "python3"
  },
  "language_info": {
   "codemirror_mode": {
    "name": "ipython",
    "version": 3
   },
   "file_extension": ".py",
   "mimetype": "text/x-python",
   "name": "python",
   "nbconvert_exporter": "python",
   "pygments_lexer": "ipython3",
   "version": "3.8.20"
  }
 },
 "nbformat": 4,
 "nbformat_minor": 5
}
